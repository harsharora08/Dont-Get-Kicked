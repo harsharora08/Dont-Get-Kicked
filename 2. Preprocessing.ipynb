{
 "cells": [
  {
   "cell_type": "code",
   "execution_count": 2,
   "id": "43e4535a",
   "metadata": {},
   "outputs": [],
   "source": [
    "import numpy as np\n",
    "import pandas as pd"
   ]
  },
  {
   "cell_type": "code",
   "execution_count": 3,
   "id": "9999404c",
   "metadata": {},
   "outputs": [],
   "source": [
    "df = pd.read_csv('data/training.csv', parse_dates=['PurchDate'])"
   ]
  },
  {
   "cell_type": "code",
   "execution_count": 4,
   "id": "ee4d05be",
   "metadata": {},
   "outputs": [
    {
     "data": {
      "text/html": [
       "<div>\n",
       "<style scoped>\n",
       "    .dataframe tbody tr th:only-of-type {\n",
       "        vertical-align: middle;\n",
       "    }\n",
       "\n",
       "    .dataframe tbody tr th {\n",
       "        vertical-align: top;\n",
       "    }\n",
       "\n",
       "    .dataframe thead th {\n",
       "        text-align: right;\n",
       "    }\n",
       "</style>\n",
       "<table border=\"1\" class=\"dataframe\">\n",
       "  <thead>\n",
       "    <tr style=\"text-align: right;\">\n",
       "      <th></th>\n",
       "      <th>RefId</th>\n",
       "      <th>IsBadBuy</th>\n",
       "      <th>PurchDate</th>\n",
       "      <th>Auction</th>\n",
       "      <th>VehYear</th>\n",
       "      <th>VehicleAge</th>\n",
       "      <th>Make</th>\n",
       "      <th>Model</th>\n",
       "      <th>Trim</th>\n",
       "      <th>SubModel</th>\n",
       "      <th>...</th>\n",
       "      <th>MMRCurrentRetailAveragePrice</th>\n",
       "      <th>MMRCurrentRetailCleanPrice</th>\n",
       "      <th>PRIMEUNIT</th>\n",
       "      <th>AUCGUART</th>\n",
       "      <th>BYRNO</th>\n",
       "      <th>VNZIP1</th>\n",
       "      <th>VNST</th>\n",
       "      <th>VehBCost</th>\n",
       "      <th>IsOnlineSale</th>\n",
       "      <th>WarrantyCost</th>\n",
       "    </tr>\n",
       "  </thead>\n",
       "  <tbody>\n",
       "    <tr>\n",
       "      <th>0</th>\n",
       "      <td>1</td>\n",
       "      <td>0</td>\n",
       "      <td>2009-12-07</td>\n",
       "      <td>ADESA</td>\n",
       "      <td>2006</td>\n",
       "      <td>3</td>\n",
       "      <td>MAZDA</td>\n",
       "      <td>MAZDA3</td>\n",
       "      <td>i</td>\n",
       "      <td>4D SEDAN I</td>\n",
       "      <td>...</td>\n",
       "      <td>11597.0</td>\n",
       "      <td>12409.0</td>\n",
       "      <td>NaN</td>\n",
       "      <td>NaN</td>\n",
       "      <td>21973</td>\n",
       "      <td>33619</td>\n",
       "      <td>FL</td>\n",
       "      <td>7100.0</td>\n",
       "      <td>0</td>\n",
       "      <td>1113</td>\n",
       "    </tr>\n",
       "    <tr>\n",
       "      <th>1</th>\n",
       "      <td>2</td>\n",
       "      <td>0</td>\n",
       "      <td>2009-12-07</td>\n",
       "      <td>ADESA</td>\n",
       "      <td>2004</td>\n",
       "      <td>5</td>\n",
       "      <td>DODGE</td>\n",
       "      <td>1500 RAM PICKUP 2WD</td>\n",
       "      <td>ST</td>\n",
       "      <td>QUAD CAB 4.7L SLT</td>\n",
       "      <td>...</td>\n",
       "      <td>11374.0</td>\n",
       "      <td>12791.0</td>\n",
       "      <td>NaN</td>\n",
       "      <td>NaN</td>\n",
       "      <td>19638</td>\n",
       "      <td>33619</td>\n",
       "      <td>FL</td>\n",
       "      <td>7600.0</td>\n",
       "      <td>0</td>\n",
       "      <td>1053</td>\n",
       "    </tr>\n",
       "    <tr>\n",
       "      <th>2</th>\n",
       "      <td>3</td>\n",
       "      <td>0</td>\n",
       "      <td>2009-12-07</td>\n",
       "      <td>ADESA</td>\n",
       "      <td>2005</td>\n",
       "      <td>4</td>\n",
       "      <td>DODGE</td>\n",
       "      <td>STRATUS V6</td>\n",
       "      <td>SXT</td>\n",
       "      <td>4D SEDAN SXT FFV</td>\n",
       "      <td>...</td>\n",
       "      <td>7146.0</td>\n",
       "      <td>8702.0</td>\n",
       "      <td>NaN</td>\n",
       "      <td>NaN</td>\n",
       "      <td>19638</td>\n",
       "      <td>33619</td>\n",
       "      <td>FL</td>\n",
       "      <td>4900.0</td>\n",
       "      <td>0</td>\n",
       "      <td>1389</td>\n",
       "    </tr>\n",
       "    <tr>\n",
       "      <th>3</th>\n",
       "      <td>4</td>\n",
       "      <td>0</td>\n",
       "      <td>2009-12-07</td>\n",
       "      <td>ADESA</td>\n",
       "      <td>2004</td>\n",
       "      <td>5</td>\n",
       "      <td>DODGE</td>\n",
       "      <td>NEON</td>\n",
       "      <td>SXT</td>\n",
       "      <td>4D SEDAN</td>\n",
       "      <td>...</td>\n",
       "      <td>4375.0</td>\n",
       "      <td>5518.0</td>\n",
       "      <td>NaN</td>\n",
       "      <td>NaN</td>\n",
       "      <td>19638</td>\n",
       "      <td>33619</td>\n",
       "      <td>FL</td>\n",
       "      <td>4100.0</td>\n",
       "      <td>0</td>\n",
       "      <td>630</td>\n",
       "    </tr>\n",
       "    <tr>\n",
       "      <th>4</th>\n",
       "      <td>5</td>\n",
       "      <td>0</td>\n",
       "      <td>2009-12-07</td>\n",
       "      <td>ADESA</td>\n",
       "      <td>2005</td>\n",
       "      <td>4</td>\n",
       "      <td>FORD</td>\n",
       "      <td>FOCUS</td>\n",
       "      <td>ZX3</td>\n",
       "      <td>2D COUPE ZX3</td>\n",
       "      <td>...</td>\n",
       "      <td>6739.0</td>\n",
       "      <td>7911.0</td>\n",
       "      <td>NaN</td>\n",
       "      <td>NaN</td>\n",
       "      <td>19638</td>\n",
       "      <td>33619</td>\n",
       "      <td>FL</td>\n",
       "      <td>4000.0</td>\n",
       "      <td>0</td>\n",
       "      <td>1020</td>\n",
       "    </tr>\n",
       "  </tbody>\n",
       "</table>\n",
       "<p>5 rows × 34 columns</p>\n",
       "</div>"
      ],
      "text/plain": [
       "   RefId  IsBadBuy  PurchDate Auction  VehYear  VehicleAge   Make  \\\n",
       "0      1         0 2009-12-07   ADESA     2006           3  MAZDA   \n",
       "1      2         0 2009-12-07   ADESA     2004           5  DODGE   \n",
       "2      3         0 2009-12-07   ADESA     2005           4  DODGE   \n",
       "3      4         0 2009-12-07   ADESA     2004           5  DODGE   \n",
       "4      5         0 2009-12-07   ADESA     2005           4   FORD   \n",
       "\n",
       "                 Model Trim           SubModel  ...  \\\n",
       "0               MAZDA3    i         4D SEDAN I  ...   \n",
       "1  1500 RAM PICKUP 2WD   ST  QUAD CAB 4.7L SLT  ...   \n",
       "2           STRATUS V6  SXT   4D SEDAN SXT FFV  ...   \n",
       "3                 NEON  SXT           4D SEDAN  ...   \n",
       "4                FOCUS  ZX3       2D COUPE ZX3  ...   \n",
       "\n",
       "  MMRCurrentRetailAveragePrice MMRCurrentRetailCleanPrice  PRIMEUNIT AUCGUART  \\\n",
       "0                      11597.0                    12409.0        NaN      NaN   \n",
       "1                      11374.0                    12791.0        NaN      NaN   \n",
       "2                       7146.0                     8702.0        NaN      NaN   \n",
       "3                       4375.0                     5518.0        NaN      NaN   \n",
       "4                       6739.0                     7911.0        NaN      NaN   \n",
       "\n",
       "   BYRNO VNZIP1 VNST VehBCost  IsOnlineSale  WarrantyCost  \n",
       "0  21973  33619   FL   7100.0             0          1113  \n",
       "1  19638  33619   FL   7600.0             0          1053  \n",
       "2  19638  33619   FL   4900.0             0          1389  \n",
       "3  19638  33619   FL   4100.0             0           630  \n",
       "4  19638  33619   FL   4000.0             0          1020  \n",
       "\n",
       "[5 rows x 34 columns]"
      ]
     },
     "execution_count": 4,
     "metadata": {},
     "output_type": "execute_result"
    }
   ],
   "source": [
    "df.head()"
   ]
  },
  {
   "cell_type": "code",
   "execution_count": 5,
   "id": "9cb65ee1",
   "metadata": {},
   "outputs": [],
   "source": [
    "df.replace('Manual', 'MANUAL', inplace=True)"
   ]
  },
  {
   "cell_type": "code",
   "execution_count": 6,
   "id": "b1d930a5",
   "metadata": {},
   "outputs": [
    {
     "data": {
      "text/plain": [
       "RefId                                    0\n",
       "IsBadBuy                                 0\n",
       "PurchDate                                0\n",
       "Auction                                  0\n",
       "VehYear                                  0\n",
       "VehicleAge                               0\n",
       "Make                                     0\n",
       "Model                                    0\n",
       "Trim                                  2360\n",
       "SubModel                                 8\n",
       "Color                                    8\n",
       "Transmission                             9\n",
       "WheelTypeID                           3169\n",
       "WheelType                             3174\n",
       "VehOdo                                   0\n",
       "Nationality                              5\n",
       "Size                                     5\n",
       "TopThreeAmericanName                     5\n",
       "MMRAcquisitionAuctionAveragePrice       18\n",
       "MMRAcquisitionAuctionCleanPrice         18\n",
       "MMRAcquisitionRetailAveragePrice        18\n",
       "MMRAcquisitonRetailCleanPrice           18\n",
       "MMRCurrentAuctionAveragePrice          315\n",
       "MMRCurrentAuctionCleanPrice            315\n",
       "MMRCurrentRetailAveragePrice           315\n",
       "MMRCurrentRetailCleanPrice             315\n",
       "PRIMEUNIT                            69564\n",
       "AUCGUART                             69564\n",
       "BYRNO                                    0\n",
       "VNZIP1                                   0\n",
       "VNST                                     0\n",
       "VehBCost                                 0\n",
       "IsOnlineSale                             0\n",
       "WarrantyCost                             0\n",
       "dtype: int64"
      ]
     },
     "execution_count": 6,
     "metadata": {},
     "output_type": "execute_result"
    }
   ],
   "source": [
    "df.isna().sum()"
   ]
  },
  {
   "cell_type": "markdown",
   "id": "16380914",
   "metadata": {},
   "source": [
    "### Dropping columns of no use"
   ]
  },
  {
   "cell_type": "code",
   "execution_count": 7,
   "id": "5bc848e4",
   "metadata": {},
   "outputs": [],
   "source": [
    "colstodrop = ['RefId', 'PurchDate', 'VehYear', 'WheelTypeID', 'BYRNO', 'VNZIP1', 'PRIMEUNIT', 'AUCGUART', 'Model', 'SubModel', 'VNST', 'Color']"
   ]
  },
  {
   "cell_type": "code",
   "execution_count": 8,
   "id": "ba348eae",
   "metadata": {},
   "outputs": [],
   "source": [
    "df.drop(columns=colstodrop, inplace=True)"
   ]
  },
  {
   "cell_type": "code",
   "execution_count": 9,
   "id": "c0eb2930",
   "metadata": {},
   "outputs": [
    {
     "data": {
      "text/plain": [
       "IsBadBuy                                0\n",
       "Auction                                 0\n",
       "VehicleAge                              0\n",
       "Make                                    0\n",
       "Trim                                 2360\n",
       "Transmission                            9\n",
       "WheelType                            3174\n",
       "VehOdo                                  0\n",
       "Nationality                             5\n",
       "Size                                    5\n",
       "TopThreeAmericanName                    5\n",
       "MMRAcquisitionAuctionAveragePrice      18\n",
       "MMRAcquisitionAuctionCleanPrice        18\n",
       "MMRAcquisitionRetailAveragePrice       18\n",
       "MMRAcquisitonRetailCleanPrice          18\n",
       "MMRCurrentAuctionAveragePrice         315\n",
       "MMRCurrentAuctionCleanPrice           315\n",
       "MMRCurrentRetailAveragePrice          315\n",
       "MMRCurrentRetailCleanPrice            315\n",
       "VehBCost                                0\n",
       "IsOnlineSale                            0\n",
       "WarrantyCost                            0\n",
       "dtype: int64"
      ]
     },
     "execution_count": 9,
     "metadata": {},
     "output_type": "execute_result"
    }
   ],
   "source": [
    "df.isna().sum()"
   ]
  },
  {
   "cell_type": "code",
   "execution_count": 10,
   "id": "1c4877a9",
   "metadata": {},
   "outputs": [
    {
     "data": {
      "text/html": [
       "<div>\n",
       "<style scoped>\n",
       "    .dataframe tbody tr th:only-of-type {\n",
       "        vertical-align: middle;\n",
       "    }\n",
       "\n",
       "    .dataframe tbody tr th {\n",
       "        vertical-align: top;\n",
       "    }\n",
       "\n",
       "    .dataframe thead th {\n",
       "        text-align: right;\n",
       "    }\n",
       "</style>\n",
       "<table border=\"1\" class=\"dataframe\">\n",
       "  <thead>\n",
       "    <tr style=\"text-align: right;\">\n",
       "      <th></th>\n",
       "      <th>count</th>\n",
       "      <th>mean</th>\n",
       "      <th>std</th>\n",
       "      <th>min</th>\n",
       "      <th>25%</th>\n",
       "      <th>50%</th>\n",
       "      <th>75%</th>\n",
       "      <th>max</th>\n",
       "    </tr>\n",
       "  </thead>\n",
       "  <tbody>\n",
       "    <tr>\n",
       "      <th>IsBadBuy</th>\n",
       "      <td>72983.0</td>\n",
       "      <td>0.122988</td>\n",
       "      <td>0.328425</td>\n",
       "      <td>0.0</td>\n",
       "      <td>0.0</td>\n",
       "      <td>0.0</td>\n",
       "      <td>0.0</td>\n",
       "      <td>1.0</td>\n",
       "    </tr>\n",
       "    <tr>\n",
       "      <th>VehicleAge</th>\n",
       "      <td>72983.0</td>\n",
       "      <td>4.176644</td>\n",
       "      <td>1.712210</td>\n",
       "      <td>0.0</td>\n",
       "      <td>3.0</td>\n",
       "      <td>4.0</td>\n",
       "      <td>5.0</td>\n",
       "      <td>9.0</td>\n",
       "    </tr>\n",
       "    <tr>\n",
       "      <th>VehOdo</th>\n",
       "      <td>72983.0</td>\n",
       "      <td>71499.995917</td>\n",
       "      <td>14578.913128</td>\n",
       "      <td>4825.0</td>\n",
       "      <td>61837.0</td>\n",
       "      <td>73361.0</td>\n",
       "      <td>82436.0</td>\n",
       "      <td>115717.0</td>\n",
       "    </tr>\n",
       "    <tr>\n",
       "      <th>MMRAcquisitionAuctionAveragePrice</th>\n",
       "      <td>72965.0</td>\n",
       "      <td>6128.909217</td>\n",
       "      <td>2461.992768</td>\n",
       "      <td>0.0</td>\n",
       "      <td>4273.0</td>\n",
       "      <td>6097.0</td>\n",
       "      <td>7765.0</td>\n",
       "      <td>35722.0</td>\n",
       "    </tr>\n",
       "    <tr>\n",
       "      <th>MMRAcquisitionAuctionCleanPrice</th>\n",
       "      <td>72965.0</td>\n",
       "      <td>7373.636031</td>\n",
       "      <td>2722.491986</td>\n",
       "      <td>0.0</td>\n",
       "      <td>5406.0</td>\n",
       "      <td>7303.0</td>\n",
       "      <td>9021.0</td>\n",
       "      <td>36859.0</td>\n",
       "    </tr>\n",
       "    <tr>\n",
       "      <th>MMRAcquisitionRetailAveragePrice</th>\n",
       "      <td>72965.0</td>\n",
       "      <td>8497.034332</td>\n",
       "      <td>3156.285284</td>\n",
       "      <td>0.0</td>\n",
       "      <td>6280.0</td>\n",
       "      <td>8444.0</td>\n",
       "      <td>10651.0</td>\n",
       "      <td>39080.0</td>\n",
       "    </tr>\n",
       "    <tr>\n",
       "      <th>MMRAcquisitonRetailCleanPrice</th>\n",
       "      <td>72965.0</td>\n",
       "      <td>9850.928240</td>\n",
       "      <td>3385.789541</td>\n",
       "      <td>0.0</td>\n",
       "      <td>7493.0</td>\n",
       "      <td>9789.0</td>\n",
       "      <td>12088.0</td>\n",
       "      <td>41482.0</td>\n",
       "    </tr>\n",
       "    <tr>\n",
       "      <th>MMRCurrentAuctionAveragePrice</th>\n",
       "      <td>72668.0</td>\n",
       "      <td>6132.081287</td>\n",
       "      <td>2434.567723</td>\n",
       "      <td>0.0</td>\n",
       "      <td>4275.0</td>\n",
       "      <td>6062.0</td>\n",
       "      <td>7736.0</td>\n",
       "      <td>35722.0</td>\n",
       "    </tr>\n",
       "    <tr>\n",
       "      <th>MMRCurrentAuctionCleanPrice</th>\n",
       "      <td>72668.0</td>\n",
       "      <td>7390.681827</td>\n",
       "      <td>2686.248852</td>\n",
       "      <td>0.0</td>\n",
       "      <td>5414.0</td>\n",
       "      <td>7313.0</td>\n",
       "      <td>9013.0</td>\n",
       "      <td>36859.0</td>\n",
       "    </tr>\n",
       "    <tr>\n",
       "      <th>MMRCurrentRetailAveragePrice</th>\n",
       "      <td>72668.0</td>\n",
       "      <td>8775.723331</td>\n",
       "      <td>3090.702941</td>\n",
       "      <td>0.0</td>\n",
       "      <td>6536.0</td>\n",
       "      <td>8729.0</td>\n",
       "      <td>10911.0</td>\n",
       "      <td>39080.0</td>\n",
       "    </tr>\n",
       "    <tr>\n",
       "      <th>MMRCurrentRetailCleanPrice</th>\n",
       "      <td>72668.0</td>\n",
       "      <td>10145.385314</td>\n",
       "      <td>3310.254351</td>\n",
       "      <td>0.0</td>\n",
       "      <td>7784.0</td>\n",
       "      <td>10103.0</td>\n",
       "      <td>12309.0</td>\n",
       "      <td>41062.0</td>\n",
       "    </tr>\n",
       "    <tr>\n",
       "      <th>VehBCost</th>\n",
       "      <td>72983.0</td>\n",
       "      <td>6730.934326</td>\n",
       "      <td>1767.846435</td>\n",
       "      <td>1.0</td>\n",
       "      <td>5435.0</td>\n",
       "      <td>6700.0</td>\n",
       "      <td>7900.0</td>\n",
       "      <td>45469.0</td>\n",
       "    </tr>\n",
       "    <tr>\n",
       "      <th>IsOnlineSale</th>\n",
       "      <td>72983.0</td>\n",
       "      <td>0.025280</td>\n",
       "      <td>0.156975</td>\n",
       "      <td>0.0</td>\n",
       "      <td>0.0</td>\n",
       "      <td>0.0</td>\n",
       "      <td>0.0</td>\n",
       "      <td>1.0</td>\n",
       "    </tr>\n",
       "    <tr>\n",
       "      <th>WarrantyCost</th>\n",
       "      <td>72983.0</td>\n",
       "      <td>1276.580985</td>\n",
       "      <td>598.846788</td>\n",
       "      <td>462.0</td>\n",
       "      <td>837.0</td>\n",
       "      <td>1155.0</td>\n",
       "      <td>1623.0</td>\n",
       "      <td>7498.0</td>\n",
       "    </tr>\n",
       "  </tbody>\n",
       "</table>\n",
       "</div>"
      ],
      "text/plain": [
       "                                     count          mean           std  \\\n",
       "IsBadBuy                           72983.0      0.122988      0.328425   \n",
       "VehicleAge                         72983.0      4.176644      1.712210   \n",
       "VehOdo                             72983.0  71499.995917  14578.913128   \n",
       "MMRAcquisitionAuctionAveragePrice  72965.0   6128.909217   2461.992768   \n",
       "MMRAcquisitionAuctionCleanPrice    72965.0   7373.636031   2722.491986   \n",
       "MMRAcquisitionRetailAveragePrice   72965.0   8497.034332   3156.285284   \n",
       "MMRAcquisitonRetailCleanPrice      72965.0   9850.928240   3385.789541   \n",
       "MMRCurrentAuctionAveragePrice      72668.0   6132.081287   2434.567723   \n",
       "MMRCurrentAuctionCleanPrice        72668.0   7390.681827   2686.248852   \n",
       "MMRCurrentRetailAveragePrice       72668.0   8775.723331   3090.702941   \n",
       "MMRCurrentRetailCleanPrice         72668.0  10145.385314   3310.254351   \n",
       "VehBCost                           72983.0   6730.934326   1767.846435   \n",
       "IsOnlineSale                       72983.0      0.025280      0.156975   \n",
       "WarrantyCost                       72983.0   1276.580985    598.846788   \n",
       "\n",
       "                                      min      25%      50%      75%       max  \n",
       "IsBadBuy                              0.0      0.0      0.0      0.0       1.0  \n",
       "VehicleAge                            0.0      3.0      4.0      5.0       9.0  \n",
       "VehOdo                             4825.0  61837.0  73361.0  82436.0  115717.0  \n",
       "MMRAcquisitionAuctionAveragePrice     0.0   4273.0   6097.0   7765.0   35722.0  \n",
       "MMRAcquisitionAuctionCleanPrice       0.0   5406.0   7303.0   9021.0   36859.0  \n",
       "MMRAcquisitionRetailAveragePrice      0.0   6280.0   8444.0  10651.0   39080.0  \n",
       "MMRAcquisitonRetailCleanPrice         0.0   7493.0   9789.0  12088.0   41482.0  \n",
       "MMRCurrentAuctionAveragePrice         0.0   4275.0   6062.0   7736.0   35722.0  \n",
       "MMRCurrentAuctionCleanPrice           0.0   5414.0   7313.0   9013.0   36859.0  \n",
       "MMRCurrentRetailAveragePrice          0.0   6536.0   8729.0  10911.0   39080.0  \n",
       "MMRCurrentRetailCleanPrice            0.0   7784.0  10103.0  12309.0   41062.0  \n",
       "VehBCost                              1.0   5435.0   6700.0   7900.0   45469.0  \n",
       "IsOnlineSale                          0.0      0.0      0.0      0.0       1.0  \n",
       "WarrantyCost                        462.0    837.0   1155.0   1623.0    7498.0  "
      ]
     },
     "execution_count": 10,
     "metadata": {},
     "output_type": "execute_result"
    }
   ],
   "source": [
    "df.describe().transpose()"
   ]
  },
  {
   "cell_type": "markdown",
   "id": "c1793ed6",
   "metadata": {},
   "source": [
    "### Aggregating different Trim Types"
   ]
  },
  {
   "cell_type": "code",
   "execution_count": 11,
   "id": "d0454ec1",
   "metadata": {},
   "outputs": [
    {
     "data": {
      "text/plain": [
       "134"
      ]
     },
     "execution_count": 11,
     "metadata": {},
     "output_type": "execute_result"
    }
   ],
   "source": [
    "df['Trim'].nunique()"
   ]
  },
  {
   "cell_type": "code",
   "execution_count": 13,
   "id": "225c8c2d",
   "metadata": {},
   "outputs": [],
   "source": [
    "df['Trim'] = df['Trim'].apply(lambda x: str(x).upper()[0])"
   ]
  },
  {
   "cell_type": "code",
   "execution_count": 14,
   "id": "ba94c3be",
   "metadata": {},
   "outputs": [
    {
     "data": {
      "text/plain": [
       "27"
      ]
     },
     "execution_count": 14,
     "metadata": {},
     "output_type": "execute_result"
    }
   ],
   "source": [
    "df['Trim'].nunique()"
   ]
  },
  {
   "cell_type": "code",
   "execution_count": 11,
   "id": "36896aed",
   "metadata": {
    "scrolled": true
   },
   "outputs": [
    {
     "data": {
      "text/html": [
       "<div>\n",
       "<style scoped>\n",
       "    .dataframe tbody tr th:only-of-type {\n",
       "        vertical-align: middle;\n",
       "    }\n",
       "\n",
       "    .dataframe tbody tr th {\n",
       "        vertical-align: top;\n",
       "    }\n",
       "\n",
       "    .dataframe thead th {\n",
       "        text-align: right;\n",
       "    }\n",
       "</style>\n",
       "<table border=\"1\" class=\"dataframe\">\n",
       "  <thead>\n",
       "    <tr style=\"text-align: right;\">\n",
       "      <th></th>\n",
       "      <th>nUnique</th>\n",
       "      <th>Nans</th>\n",
       "    </tr>\n",
       "  </thead>\n",
       "  <tbody>\n",
       "    <tr>\n",
       "      <th>Auction</th>\n",
       "      <td>3</td>\n",
       "      <td>0</td>\n",
       "    </tr>\n",
       "    <tr>\n",
       "      <th>Make</th>\n",
       "      <td>33</td>\n",
       "      <td>0</td>\n",
       "    </tr>\n",
       "    <tr>\n",
       "      <th>Trim</th>\n",
       "      <td>27</td>\n",
       "      <td>0</td>\n",
       "    </tr>\n",
       "    <tr>\n",
       "      <th>Transmission</th>\n",
       "      <td>2</td>\n",
       "      <td>9</td>\n",
       "    </tr>\n",
       "    <tr>\n",
       "      <th>WheelType</th>\n",
       "      <td>3</td>\n",
       "      <td>3174</td>\n",
       "    </tr>\n",
       "    <tr>\n",
       "      <th>Nationality</th>\n",
       "      <td>4</td>\n",
       "      <td>5</td>\n",
       "    </tr>\n",
       "    <tr>\n",
       "      <th>Size</th>\n",
       "      <td>12</td>\n",
       "      <td>5</td>\n",
       "    </tr>\n",
       "    <tr>\n",
       "      <th>TopThreeAmericanName</th>\n",
       "      <td>4</td>\n",
       "      <td>5</td>\n",
       "    </tr>\n",
       "  </tbody>\n",
       "</table>\n",
       "</div>"
      ],
      "text/plain": [
       "                      nUnique  Nans\n",
       "Auction                     3     0\n",
       "Make                       33     0\n",
       "Trim                       27     0\n",
       "Transmission                2     9\n",
       "WheelType                   3  3174\n",
       "Nationality                 4     5\n",
       "Size                       12     5\n",
       "TopThreeAmericanName        4     5"
      ]
     },
     "execution_count": 11,
     "metadata": {},
     "output_type": "execute_result"
    }
   ],
   "source": [
    "pd.DataFrame({col: [df[col].nunique(), df[col].isna().sum()] for col in df.columns if df[col].dtype==object}, index='nUnique Nans'.split()).transpose()"
   ]
  },
  {
   "cell_type": "code",
   "execution_count": 12,
   "id": "effb17c7",
   "metadata": {},
   "outputs": [
    {
     "data": {
      "text/plain": [
       "0    64007\n",
       "1     8976\n",
       "Name: IsBadBuy, dtype: int64"
      ]
     },
     "execution_count": 12,
     "metadata": {},
     "output_type": "execute_result"
    }
   ],
   "source": [
    "df['IsBadBuy'].value_counts()"
   ]
  },
  {
   "cell_type": "markdown",
   "id": "6a41cc2c",
   "metadata": {},
   "source": [
    "### FillNa with mode"
   ]
  },
  {
   "cell_type": "code",
   "execution_count": 16,
   "id": "da4e0676",
   "metadata": {},
   "outputs": [],
   "source": [
    "df['WheelType'].fillna('Others', inplace=True)"
   ]
  },
  {
   "cell_type": "code",
   "execution_count": 16,
   "id": "f9437356",
   "metadata": {},
   "outputs": [
    {
     "data": {
      "text/plain": [
       "'Transmission, WheelType, Nationality, Size, TopThreeAmericanName'"
      ]
     },
     "execution_count": 16,
     "metadata": {},
     "output_type": "execute_result"
    }
   ],
   "source": [
    "', '.join([col for col in df.columns if df[col].isna().sum() and df[col].dtype==object])"
   ]
  },
  {
   "cell_type": "code",
   "execution_count": 20,
   "id": "da73fb0b",
   "metadata": {},
   "outputs": [],
   "source": [
    "for colx in [col for col in df.columns if df[col].isna().sum() and df[col].dtype==object]:\n",
    "    df[colx].fillna(df[colx].mode()[0], inplace=True)"
   ]
  },
  {
   "cell_type": "markdown",
   "id": "e137a5a6",
   "metadata": {},
   "source": [
    "### Dropping the remaining NaNs"
   ]
  },
  {
   "cell_type": "code",
   "execution_count": 22,
   "id": "88c90288",
   "metadata": {},
   "outputs": [],
   "source": [
    "df.dropna(inplace=True)"
   ]
  },
  {
   "cell_type": "markdown",
   "id": "09b470a8",
   "metadata": {},
   "source": [
    "## Sampling the data to remove imbalance"
   ]
  },
  {
   "cell_type": "code",
   "execution_count": 78,
   "id": "e2aa4f83",
   "metadata": {},
   "outputs": [],
   "source": [
    "data = pd.concat([df[df['IsBadBuy'] == 0].sample(30000),\n",
    "                  df[df['IsBadBuy'] == 1].sample(28000, replace=True)])"
   ]
  },
  {
   "cell_type": "code",
   "execution_count": 79,
   "id": "1cf82956",
   "metadata": {},
   "outputs": [],
   "source": [
    "X = pd.get_dummies(data.drop(columns='IsBadBuy'), drop_first=True)\n",
    "\n",
    "y = data['IsBadBuy']"
   ]
  },
  {
   "cell_type": "code",
   "execution_count": 80,
   "id": "355a2f91",
   "metadata": {},
   "outputs": [
    {
     "data": {
      "text/plain": [
       "(58000, 92)"
      ]
     },
     "execution_count": 80,
     "metadata": {},
     "output_type": "execute_result"
    }
   ],
   "source": [
    "X.shape"
   ]
  },
  {
   "cell_type": "code",
   "execution_count": 81,
   "id": "c925662d",
   "metadata": {},
   "outputs": [],
   "source": [
    "X.dropna(inplace=True)"
   ]
  },
  {
   "cell_type": "markdown",
   "id": "90b867a2",
   "metadata": {},
   "source": [
    "## Exporting X and Y for classification"
   ]
  },
  {
   "cell_type": "code",
   "execution_count": 111,
   "id": "80e4c883",
   "metadata": {},
   "outputs": [],
   "source": [
    "X.to_csv('data/X.csv', index=None)\n",
    "y.to_csv('data/y.csv', index=None)"
   ]
  }
 ],
 "metadata": {
  "kernelspec": {
   "display_name": "Python 3 (ipykernel)",
   "language": "python",
   "name": "python3"
  },
  "language_info": {
   "codemirror_mode": {
    "name": "ipython",
    "version": 3
   },
   "file_extension": ".py",
   "mimetype": "text/x-python",
   "name": "python",
   "nbconvert_exporter": "python",
   "pygments_lexer": "ipython3",
   "version": "3.10.8"
  },
  "varInspector": {
   "cols": {
    "lenName": 16,
    "lenType": 16,
    "lenVar": 40
   },
   "kernels_config": {
    "python": {
     "delete_cmd_postfix": "",
     "delete_cmd_prefix": "del ",
     "library": "var_list.py",
     "varRefreshCmd": "print(var_dic_list())"
    },
    "r": {
     "delete_cmd_postfix": ") ",
     "delete_cmd_prefix": "rm(",
     "library": "var_list.r",
     "varRefreshCmd": "cat(var_dic_list()) "
    }
   },
   "types_to_exclude": [
    "module",
    "function",
    "builtin_function_or_method",
    "instance",
    "_Feature"
   ],
   "window_display": false
  }
 },
 "nbformat": 4,
 "nbformat_minor": 5
}
