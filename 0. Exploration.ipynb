{
 "cells": [
  {
   "cell_type": "code",
   "execution_count": 1,
   "id": "4dcfe087",
   "metadata": {},
   "outputs": [
    {
     "name": "stderr",
     "output_type": "stream",
     "text": [
      "C:\\Users\\harsh\\miniconda3\\lib\\site-packages\\numpy\\_distributor_init.py:30: UserWarning: loaded more than 1 DLL from .libs:\n",
      "C:\\Users\\harsh\\miniconda3\\lib\\site-packages\\numpy\\.libs\\libopenblas.FB5AE2TYXYH2IJRDKGDGQ3XBKLKTF43H.gfortran-win_amd64.dll\n",
      "C:\\Users\\harsh\\miniconda3\\lib\\site-packages\\numpy\\.libs\\libopenblas64__v0.3.21-gcc_10_3_0.dll\n",
      "  warnings.warn(\"loaded more than 1 DLL from .libs:\"\n"
     ]
    }
   ],
   "source": [
    "import numpy as np\n",
    "import pandas as pd"
   ]
  },
  {
   "cell_type": "code",
   "execution_count": 2,
   "id": "1c27613b",
   "metadata": {},
   "outputs": [],
   "source": [
    "df = pd.read_csv('data/training.csv')"
   ]
  },
  {
   "cell_type": "code",
   "execution_count": 3,
   "id": "95afe155",
   "metadata": {},
   "outputs": [
    {
     "name": "stdout",
     "output_type": "stream",
     "text": [
      "Number of Instances: 72983\n",
      "Number of Features: 34\n"
     ]
    }
   ],
   "source": [
    "print(f'Number of Instances: {df.shape[0]}\\nNumber of Features: {df.shape[1]}')"
   ]
  },
  {
   "cell_type": "code",
   "execution_count": 147,
   "id": "c683f2b8",
   "metadata": {},
   "outputs": [
    {
     "data": {
      "text/plain": [
       "[(0, 'RefId'),\n",
       " (1, 'IsBadBuy'),\n",
       " (2, 'PurchDate'),\n",
       " (3, 'Auction'),\n",
       " (4, 'VehYear'),\n",
       " (5, 'VehicleAge'),\n",
       " (6, 'Make'),\n",
       " (7, 'Model'),\n",
       " (8, 'Trim'),\n",
       " (9, 'SubModel'),\n",
       " (10, 'Color'),\n",
       " (11, 'Transmission'),\n",
       " (12, 'WheelTypeID'),\n",
       " (13, 'WheelType'),\n",
       " (14, 'VehOdo'),\n",
       " (15, 'Nationality'),\n",
       " (16, 'Size'),\n",
       " (17, 'TopThreeAmericanName'),\n",
       " (18, 'MMRAcquisitionAuctionAveragePrice'),\n",
       " (19, 'MMRAcquisitionAuctionCleanPrice'),\n",
       " (20, 'MMRAcquisitionRetailAveragePrice'),\n",
       " (21, 'MMRAcquisitonRetailCleanPrice'),\n",
       " (22, 'MMRCurrentAuctionAveragePrice'),\n",
       " (23, 'MMRCurrentAuctionCleanPrice'),\n",
       " (24, 'MMRCurrentRetailAveragePrice'),\n",
       " (25, 'MMRCurrentRetailCleanPrice'),\n",
       " (26, 'PRIMEUNIT'),\n",
       " (27, 'AUCGUART'),\n",
       " (28, 'BYRNO'),\n",
       " (29, 'VNZIP1'),\n",
       " (30, 'VNST'),\n",
       " (31, 'VehBCost'),\n",
       " (32, 'IsOnlineSale'),\n",
       " (33, 'WarrantyCost')]"
      ]
     },
     "execution_count": 147,
     "metadata": {},
     "output_type": "execute_result"
    }
   ],
   "source": [
    "list(enumerate(pd.read_csv('data/training.csv').columns))"
   ]
  },
  {
   "cell_type": "code",
   "execution_count": 149,
   "id": "baac8998",
   "metadata": {},
   "outputs": [
    {
     "data": {
      "text/plain": [
       "0                                 RefID\n",
       "1                              IsBadBuy\n",
       "2                             PurchDate\n",
       "3                               Auction\n",
       "4                               VehYear\n",
       "5                            VehicleAge\n",
       "6                                  Make\n",
       "7                                 Model\n",
       "8                                  Trim\n",
       "9                              SubModel\n",
       "10                                Color\n",
       "11                         Transmission\n",
       "12                          WheelTypeID\n",
       "13                            WheelType\n",
       "14                               VehOdo\n",
       "15                          Nationality\n",
       "16                                 Size\n",
       "17                 TopThreeAmericanName\n",
       "18    MMRAcquisitionAuctionAveragePrice\n",
       "19      MMRAcquisitionAuctionCleanPrice\n",
       "20     MMRAcquisitionRetailAveragePrice\n",
       "21        MMRAcquisitonRetailCleanPrice\n",
       "22        MMRCurrentAuctionAveragePrice\n",
       "23          MMRCurrentAuctionCleanPrice\n",
       "24         MMRCurrentRetailAveragePrice\n",
       "25           MMRCurrentRetailCleanPrice\n",
       "26                            PRIMEUNIT\n",
       "27                      AcquisitionType\n",
       "28                             AUCGUART\n",
       "29                             KickDate\n",
       "30                                BYRNO\n",
       "31                                VNZIP\n",
       "32                                 VNST\n",
       "33                             VehBCost\n",
       "34                         IsOnlineSale\n",
       "35                         WarrantyCost\n",
       "Name: Field Name, dtype: object"
      ]
     },
     "execution_count": 149,
     "metadata": {},
     "output_type": "execute_result"
    }
   ],
   "source": [
    "df['Field Name']"
   ]
  },
  {
   "cell_type": "code",
   "execution_count": 144,
   "id": "4a8dcef3",
   "metadata": {},
   "outputs": [
    {
     "name": "stdout",
     "output_type": "stream",
     "text": [
      "Field Name\t\t\t\tDefinition\n",
      "RefID\t\t\t\t        Unique (sequential) number assigned to vehicles\n",
      "IsBadBuy\t\t\t\tIdentifies if the kicked vehicle was an avoidable purchase \n",
      "PurchDate\t\t\t\tThe Date the vehicle was Purchased at Auction\n",
      "Auction\t\t\t\t\tAuction provider at which the  vehicle was purchased\n",
      "VehYear\t\t\t\t\tThe manufacturer's year of the vehicle\n",
      "VehicleAge\t\t\t\tThe Years elapsed since the manufacturer's year\n",
      "Make\t\t\t\t\tVehicle Manufacturer \n",
      "Model\t\t\t\t\tVehicle Model\n",
      "Trim\t\t\t\t\tVehicle Trim Level\n",
      "SubModel\t\t\t\tVehicle Submodel\n",
      "Color\t\t\t\t\tVehicle Color\n",
      "Transmission\t\t\t\tVehicles transmission type (Automatic, Manual)\n",
      "WheelTypeID\t\t\t\tThe type id of the vehicle wheel\n",
      "WheelType\t\t\t\tThe vehicle wheel type description (Alloy, Covers)\n",
      "VehOdo\t\t\t\t\tThe vehicles odometer reading\n",
      "Nationality\t\t\t\tThe Manufacturer's country\n",
      "Size\t\t\t\t\tThe size category of the vehicle (Compact, SUV, etc.)\n",
      "TopThreeAmericanName\t\t\tIdentifies if the manufacturer is one of the top three American manufacturers\n",
      "MMRAcquisitionAuctionAveragePrice\tAcquisition price for this vehicle in average condition at time of purchase\t\n",
      "MMRAcquisitionAuctionCleanPrice\t\tAcquisition price for this vehicle in the above Average condition at time of purchase\n",
      "MMRAcquisitionRetailAveragePrice\tAcquisition price for this vehicle in the retail market in average condition at time of purchase\n",
      "MMRAcquisitonRetailCleanPrice\t\tAcquisition price for this vehicle in the retail market in above average condition at time of purchase\n",
      "MMRCurrentAuctionAveragePrice\t\tAcquisition price for this vehicle in average condition as of current day\t\n",
      "MMRCurrentAuctionCleanPrice\t\tAcquisition price for this vehicle in the above condition as of current day\n",
      "MMRCurrentRetailAveragePrice\t\tAcquisition price for this vehicle in the retail market in average condition as of current day\n",
      "MMRCurrentRetailCleanPrice\t\tAcquisition price for this vehicle in the retail market in above average condition as of current day\n",
      "PRIMEUNIT\t\t\t\tIdentifies if the vehicle would have a higher demand than a standard purchase\n",
      "AcquisitionType\t\t\t\tIdentifies how the vehicle was aquired (Auction buy, trade in, etc)\n",
      "AUCGUART\t\t\t\tThe level guarntee provided by auction for the vehicle (Green light - Guaranteed/arbitratable, Yellow Light - caution/issue, red light - sold as is)\n",
      "KickDate\t\t\t\tDate the vehicle was kicked back to the auction\n",
      "BYRNO\t\t\t\t\tUnique number assigned to the buyer that purchased the vehicle\n",
      "VNZIP                                   Zipcode where the car was purchased\n",
      "VNST                                    State where the the car was purchased\n",
      "VehBCost\t\t\t\tAcquisition cost paid for the vehicle at time of purchase\n",
      "IsOnlineSale\t\t\t\tIdentifies if the vehicle was originally purchased online\n",
      "WarrantyCost                            Warranty price (term=36month  and millage=36K) \n",
      "\n",
      "\n"
     ]
    }
   ],
   "source": [
    "print(open('data/Carvana_Data_Dictionary.txt').read())"
   ]
  },
  {
   "cell_type": "code",
   "execution_count": 5,
   "id": "89f31899",
   "metadata": {},
   "outputs": [],
   "source": [
    "s = (open('data/Carvana_Data_Dictionary.txt').read())"
   ]
  },
  {
   "cell_type": "code",
   "execution_count": 18,
   "id": "4d8d0db3",
   "metadata": {},
   "outputs": [
    {
     "data": {
      "text/plain": [
       "149203"
      ]
     },
     "execution_count": 18,
     "metadata": {},
     "output_type": "execute_result"
    }
   ],
   "source": [
    "df.isna().sum().sum()"
   ]
  },
  {
   "cell_type": "code",
   "execution_count": 10,
   "id": "652d5ceb",
   "metadata": {
    "scrolled": true
   },
   "outputs": [
    {
     "data": {
      "text/plain": [
       "object     15\n",
       "float64    10\n",
       "int64       9\n",
       "dtype: int64"
      ]
     },
     "execution_count": 10,
     "metadata": {},
     "output_type": "execute_result"
    }
   ],
   "source": [
    "df.dtypes.value_counts()"
   ]
  },
  {
   "cell_type": "code",
   "execution_count": 30,
   "id": "1362f080",
   "metadata": {},
   "outputs": [
    {
     "data": {
      "text/plain": [
       "['AcquisitionType\\t\\t\\t\\tIdentifies how the vehicle was aquired (Auction buy, trade in, etc)',\n",
       " 'AUCGUART\\t\\t\\t\\tThe level guarntee provided by auction for the vehicle (Green light - Guaranteed/arbitratable, Yellow Light - caution/issue, red light - sold as is)',\n",
       " 'KickDate\\t\\t\\t\\tDate the vehicle was kicked back to the auction',\n",
       " 'BYRNO\\t\\t\\t\\t\\tUnique number assigned to the buyer that purchased the vehicle',\n",
       " 'VNZIP                                   Zipcode where the car was purchased',\n",
       " 'VNST                                    State where the the car was purchased',\n",
       " 'VehBCost\\t\\t\\t\\tAcquisition cost paid for the vehicle at time of purchase',\n",
       " 'IsOnlineSale\\t\\t\\t\\tIdentifies if the vehicle was originally purchased online',\n",
       " 'WarrantyCost                            Warranty price (term=36month  and millage=36K) ']"
      ]
     },
     "execution_count": 30,
     "metadata": {},
     "output_type": "execute_result"
    }
   ],
   "source": [
    "s.split('\\n')[-11:][:-2]"
   ]
  },
  {
   "cell_type": "code",
   "execution_count": 32,
   "id": "99bdcd3c",
   "metadata": {},
   "outputs": [],
   "source": [
    "sts = []\n",
    "ens = []"
   ]
  },
  {
   "cell_type": "code",
   "execution_count": 33,
   "id": "6f1f38f3",
   "metadata": {},
   "outputs": [],
   "source": [
    "for e in s.split('\\n')[:-2]:\n",
    "    st = e.find('\\t')\n",
    "    en = e.rfind('\\t')\n",
    "    sts.append(e[:st])\n",
    "    ens.append(e[en:])"
   ]
  },
  {
   "cell_type": "code",
   "execution_count": 75,
   "id": "ff99ee7f",
   "metadata": {},
   "outputs": [],
   "source": [
    "i-=1"
   ]
  },
  {
   "cell_type": "code",
   "execution_count": 76,
   "id": "b290914e",
   "metadata": {},
   "outputs": [],
   "source": [
    "\n",
    "ppc.copy([st.split('  ')[0].strip() for st in sts][i])\n",
    "i+=1"
   ]
  },
  {
   "cell_type": "code",
   "execution_count": 77,
   "id": "980bb245",
   "metadata": {},
   "outputs": [],
   "source": [
    "j=10"
   ]
  },
  {
   "cell_type": "code",
   "execution_count": 87,
   "id": "3aa0e9a3",
   "metadata": {},
   "outputs": [],
   "source": [
    "ppc.copy([st.split('  ')[0].strip() for st in ens][j])\n",
    "j+=1"
   ]
  },
  {
   "cell_type": "code",
   "execution_count": 10,
   "id": "278e6f4b",
   "metadata": {},
   "outputs": [
    {
     "data": {
      "text/plain": [
       "'Field Name'"
      ]
     },
     "execution_count": 10,
     "metadata": {},
     "output_type": "execute_result"
    }
   ],
   "source": [
    "s.split('\\n')[0][:10]"
   ]
  },
  {
   "cell_type": "code",
   "execution_count": 18,
   "id": "cb0e4a22",
   "metadata": {},
   "outputs": [
    {
     "data": {
      "text/plain": [
       "'Definition'"
      ]
     },
     "execution_count": 18,
     "metadata": {},
     "output_type": "execute_result"
    }
   ],
   "source": [
    "s.split('\\n')[0][14:]"
   ]
  },
  {
   "cell_type": "code",
   "execution_count": 92,
   "id": "9799e8ea",
   "metadata": {},
   "outputs": [],
   "source": [
    "df = pd.read_clipboard(sep=';')"
   ]
  },
  {
   "cell_type": "code",
   "execution_count": 113,
   "id": "6c8478c2",
   "metadata": {},
   "outputs": [],
   "source": [
    "import time"
   ]
  },
  {
   "cell_type": "code",
   "execution_count": 114,
   "id": "98c1d492",
   "metadata": {},
   "outputs": [],
   "source": [
    "for c in df[18:25]['Field Name']:\n",
    "    time.sleep(2)\n",
    "    ppc.copy(c)"
   ]
  },
  {
   "cell_type": "code",
   "execution_count": 125,
   "id": "57f627a3",
   "metadata": {},
   "outputs": [
    {
     "data": {
      "text/plain": [
       "['Acquisition price for this vehicle in average condition at time of purchase',\n",
       " 'Acquisition price for this vehicle in the above Average condition at time of purchase',\n",
       " 'Acquisition price for this vehicle in the retail market in average condition at time of purchase',\n",
       " 'Acquisition price for this vehicle in the retail market in above average condition at time of purchase',\n",
       " 'Acquisition price for this vehicle in average condition as of current day',\n",
       " 'Acquisition price for this vehicle in the above condition as of current day',\n",
       " 'Acquisition price for this vehicle in the retail market in average condition as of current day']"
      ]
     },
     "execution_count": 125,
     "metadata": {},
     "output_type": "execute_result"
    }
   ],
   "source": [
    "list(df[18:25]['Definition'])\n"
   ]
  },
  {
   "cell_type": "code",
   "execution_count": 127,
   "id": "52d66bea",
   "metadata": {},
   "outputs": [
    {
     "name": "stdout",
     "output_type": "stream",
     "text": [
      "average condition at time of purchase\n",
      "the above Average condition at time of purchase\n",
      "the retail market in average condition at time of purchase\n",
      "the retail market in above average condition at time of purchase\n",
      "average condition as of current day\n",
      "the above condition as of current day\n",
      "the retail market in average condition as of current day\n",
      "the retail market in above average condition as of current day\n"
     ]
    }
   ],
   "source": [
    "for x in list(df[18:26]['Definition']):\n",
    "    print(x[38:])"
   ]
  },
  {
   "cell_type": "code",
   "execution_count": 104,
   "id": "0ab832e2",
   "metadata": {},
   "outputs": [
    {
     "data": {
      "text/plain": [
       "(7, 2)"
      ]
     },
     "execution_count": 104,
     "metadata": {},
     "output_type": "execute_result"
    }
   ],
   "source": [
    "df[18:25].shape"
   ]
  },
  {
   "cell_type": "code",
   "execution_count": 132,
   "id": "0043e8ff",
   "metadata": {},
   "outputs": [
    {
     "data": {
      "text/html": [
       "<div>\n",
       "<style scoped>\n",
       "    .dataframe tbody tr th:only-of-type {\n",
       "        vertical-align: middle;\n",
       "    }\n",
       "\n",
       "    .dataframe tbody tr th {\n",
       "        vertical-align: top;\n",
       "    }\n",
       "\n",
       "    .dataframe thead th {\n",
       "        text-align: right;\n",
       "    }\n",
       "</style>\n",
       "<table border=\"1\" class=\"dataframe\">\n",
       "  <thead>\n",
       "    <tr style=\"text-align: right;\">\n",
       "      <th></th>\n",
       "      <th>Field Name</th>\n",
       "      <th>Definition</th>\n",
       "    </tr>\n",
       "  </thead>\n",
       "  <tbody>\n",
       "    <tr>\n",
       "      <th>26</th>\n",
       "      <td>PRIMEUNIT</td>\n",
       "      <td>Identifies if the vehicle would have a higher ...</td>\n",
       "    </tr>\n",
       "    <tr>\n",
       "      <th>27</th>\n",
       "      <td>AcquisitionType</td>\n",
       "      <td>Identifies how the vehicle was acquired (Aucti...</td>\n",
       "    </tr>\n",
       "    <tr>\n",
       "      <th>28</th>\n",
       "      <td>AUCGUART</td>\n",
       "      <td>The level guarantee provided by auction for th...</td>\n",
       "    </tr>\n",
       "    <tr>\n",
       "      <th>29</th>\n",
       "      <td>KickDate</td>\n",
       "      <td>Date the vehicle was kicked back to the auction</td>\n",
       "    </tr>\n",
       "    <tr>\n",
       "      <th>30</th>\n",
       "      <td>BYRNO</td>\n",
       "      <td>Unique number assigned to the buyer that purch...</td>\n",
       "    </tr>\n",
       "    <tr>\n",
       "      <th>31</th>\n",
       "      <td>VNZIP</td>\n",
       "      <td>Zipcode where the car was purchased</td>\n",
       "    </tr>\n",
       "    <tr>\n",
       "      <th>32</th>\n",
       "      <td>VNST</td>\n",
       "      <td>State where the car was purchased</td>\n",
       "    </tr>\n",
       "    <tr>\n",
       "      <th>33</th>\n",
       "      <td>VehBCost</td>\n",
       "      <td>Acquisition cost paid for the vehicle at the t...</td>\n",
       "    </tr>\n",
       "    <tr>\n",
       "      <th>34</th>\n",
       "      <td>IsOnlineSale</td>\n",
       "      <td>Identifies if the vehicle was originally purch...</td>\n",
       "    </tr>\n",
       "    <tr>\n",
       "      <th>35</th>\n",
       "      <td>WarrantyCost</td>\n",
       "      <td>Warranty price (term=36 months and mileage=36K)</td>\n",
       "    </tr>\n",
       "  </tbody>\n",
       "</table>\n",
       "</div>"
      ],
      "text/plain": [
       "         Field Name                                         Definition\n",
       "26        PRIMEUNIT  Identifies if the vehicle would have a higher ...\n",
       "27  AcquisitionType  Identifies how the vehicle was acquired (Aucti...\n",
       "28         AUCGUART  The level guarantee provided by auction for th...\n",
       "29         KickDate    Date the vehicle was kicked back to the auction\n",
       "30            BYRNO  Unique number assigned to the buyer that purch...\n",
       "31            VNZIP                Zipcode where the car was purchased\n",
       "32             VNST                  State where the car was purchased\n",
       "33         VehBCost  Acquisition cost paid for the vehicle at the t...\n",
       "34     IsOnlineSale  Identifies if the vehicle was originally purch...\n",
       "35     WarrantyCost    Warranty price (term=36 months and mileage=36K)"
      ]
     },
     "execution_count": 132,
     "metadata": {},
     "output_type": "execute_result"
    }
   ],
   "source": [
    "df[26:]"
   ]
  },
  {
   "cell_type": "code",
   "execution_count": 140,
   "id": "038eb337",
   "metadata": {},
   "outputs": [
    {
     "data": {
      "text/plain": [
       "Index(['RefId', 'IsBadBuy', 'PurchDate', 'Auction', 'VehYear', 'VehicleAge',\n",
       "       'Make', 'Model', 'Trim', 'SubModel', 'Color', 'Transmission',\n",
       "       'WheelTypeID', 'WheelType', 'VehOdo', 'Nationality', 'Size',\n",
       "       'TopThreeAmericanName', 'MMRAcquisitionAuctionAveragePrice',\n",
       "       'MMRAcquisitionAuctionCleanPrice', 'MMRAcquisitionRetailAveragePrice',\n",
       "       'MMRAcquisitonRetailCleanPrice', 'MMRCurrentAuctionAveragePrice',\n",
       "       'MMRCurrentAuctionCleanPrice', 'MMRCurrentRetailAveragePrice',\n",
       "       'MMRCurrentRetailCleanPrice', 'PRIMEUNIT', 'AUCGUART', 'BYRNO',\n",
       "       'VNZIP1', 'VNST', 'VehBCost', 'IsOnlineSale', 'WarrantyCost'],\n",
       "      dtype='object')"
      ]
     },
     "execution_count": 140,
     "metadata": {},
     "output_type": "execute_result"
    }
   ],
   "source": [
    "pd.read_csv('data/training.csv').columns"
   ]
  },
  {
   "cell_type": "code",
   "execution_count": 142,
   "id": "b0bf6360",
   "metadata": {},
   "outputs": [
    {
     "data": {
      "text/plain": [
       "['RefId', 'VNZIP1']"
      ]
     },
     "execution_count": 142,
     "metadata": {},
     "output_type": "execute_result"
    }
   ],
   "source": [
    "[c for c in list(pd.read_csv('data/training.csv').columns) if c not in list(df['Field Name'])]"
   ]
  },
  {
   "cell_type": "code",
   "execution_count": 137,
   "id": "b899fed9",
   "metadata": {},
   "outputs": [
    {
     "data": {
      "text/plain": [
       "(36,)"
      ]
     },
     "execution_count": 137,
     "metadata": {},
     "output_type": "execute_result"
    }
   ],
   "source": [
    "df['Field Name'].shape"
   ]
  },
  {
   "cell_type": "code",
   "execution_count": 158,
   "id": "28810a4b",
   "metadata": {},
   "outputs": [
    {
     "data": {
      "text/plain": [
       "['Identifies if the vehicle would have a higher demand than a standard purchase',\n",
       " 'The level guarantee provided by auction for the vehicle (Green light - Guaranteed/arbitratable, Yellow Light - caution/issue, red light - sold as is)',\n",
       " 'Unique number assigned to the buyer that purchased the vehicle',\n",
       " 'State where the car was purchased',\n",
       " 'Acquisition cost paid for the vehicle at the time of purchase',\n",
       " 'Identifies if the vehicle was originally purchased online',\n",
       " 'Warranty price (term=36 months and mileage=36K)']"
      ]
     },
     "execution_count": 158,
     "metadata": {},
     "output_type": "execute_result"
    }
   ],
   "source": [
    "list(df[df['Field Name'].isin(pd.read_csv('data/training.csv').columns)][-7:]['Definition'])"
   ]
  },
  {
   "cell_type": "code",
   "execution_count": null,
   "id": "c3fe22a9",
   "metadata": {},
   "outputs": [],
   "source": []
  }
 ],
 "metadata": {
  "kernelspec": {
   "display_name": "Python 3 (ipykernel)",
   "language": "python",
   "name": "python3"
  },
  "language_info": {
   "codemirror_mode": {
    "name": "ipython",
    "version": 3
   },
   "file_extension": ".py",
   "mimetype": "text/x-python",
   "name": "python",
   "nbconvert_exporter": "python",
   "pygments_lexer": "ipython3",
   "version": "3.10.8"
  },
  "varInspector": {
   "cols": {
    "lenName": 16,
    "lenType": 16,
    "lenVar": 40
   },
   "kernels_config": {
    "python": {
     "delete_cmd_postfix": "",
     "delete_cmd_prefix": "del ",
     "library": "var_list.py",
     "varRefreshCmd": "print(var_dic_list())"
    },
    "r": {
     "delete_cmd_postfix": ") ",
     "delete_cmd_prefix": "rm(",
     "library": "var_list.r",
     "varRefreshCmd": "cat(var_dic_list()) "
    }
   },
   "types_to_exclude": [
    "module",
    "function",
    "builtin_function_or_method",
    "instance",
    "_Feature"
   ],
   "window_display": false
  }
 },
 "nbformat": 4,
 "nbformat_minor": 5
}
